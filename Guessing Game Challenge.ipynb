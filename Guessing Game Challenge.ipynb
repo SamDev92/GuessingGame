{
 "cells": [
  {
   "cell_type": "code",
   "execution_count": null,
   "metadata": {},
   "outputs": [],
   "source": [
    "from random import randint\n",
    "\n",
    "correctanswer = randint(1,100)\n",
    "\n",
    "print('Welcome to The Game! Pick a Number Between 1 and 10')\n",
    "\n",
    "guesscounter = [0]\n",
    "\n",
    "while True:\n",
    "    guess = int(input('What is your guess?'))\n",
    "    if guess <1 or guess >100:\n",
    "        print('OUT OF BOUNDS')\n",
    "        \n",
    "        continue\n",
    "        \n",
    "    break\n",
    "    \n",
    "while True:\n",
    "    guess = int(input('What is your guess?'))\n",
    "    if guess == correctanswer:\n",
    "        print('You Got It! It took you {} guesses'.format(len(guesscounter)))\n",
    "        break\n",
    "        \n",
    "    guesscounter.append(guess)\n",
    "    \n",
    "    if guesscounter[-2]:\n",
    "        if abs(correctanswer-guess) < abs(correctanswer-guesscounter[-2]):\n",
    "            print('Warmer!')\n",
    "        else:\n",
    "            print('Colder')\n",
    "            \n",
    "    else:\n",
    "        if abs(correctanswer-guess) <= 10:\n",
    "            print('Warm!')\n",
    "        else:\n",
    "            print('Cold')"
   ]
  }
 ],
 "metadata": {
  "kernelspec": {
   "display_name": "Python 3",
   "language": "python",
   "name": "python3"
  },
  "language_info": {
   "codemirror_mode": {
    "name": "ipython",
    "version": 3
   },
   "file_extension": ".py",
   "mimetype": "text/x-python",
   "name": "python",
   "nbconvert_exporter": "python",
   "pygments_lexer": "ipython3",
   "version": "3.7.6"
  }
 },
 "nbformat": 4,
 "nbformat_minor": 4
}
